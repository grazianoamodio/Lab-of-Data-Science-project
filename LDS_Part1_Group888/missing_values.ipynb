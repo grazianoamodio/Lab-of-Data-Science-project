{
 "cells": [
  {
   "attachments": {},
   "cell_type": "markdown",
   "metadata": {},
   "source": [
    "### missing values\n",
    "Nella traccia ci viene chiesto di generare dei missing values su degli id di delle tabelle. Noi lo abbiamo fatto per gli id della tabella participant. \n",
    "- abbiamo generato il 10% di missing values\n",
    "\n",
    "Per il replace dei missing values generati abbiamo adottato questa strategia: \n",
    "considerando che si tratta di id e quindi di valori progressivi abbiamo sostituito il valore mancante \n",
    "con il valore precedente (non mancante) + 1. \n",
    "Per fare ciò abbiamo prima di tutto sostituito i missing value con il valore 0. Questo perchè altrimenti avevamo problemi. \n",
    "In questo modo ci assicuriamo che il primo valore della tabella resta 0 perché non ha nessun valore precedente e considerando che abbiamo impostato un loop che parte dalla prima fino all'ultima riga, nel caso in cui ci fosse più missing values in sequenza, la sequenza viene riempita in ordine. \n",
    "Questo è possibile perché gli id sono ordinati e sono interi. \n"
   ]
  },
  {
   "cell_type": "code",
   "execution_count": 21,
   "metadata": {},
   "outputs": [
    {
     "name": "stdout",
     "output_type": "stream",
     "text": [
      "I missing values di 'participant_id' sono salvati in: /Volumes/Graziano Amodio/Data science - esami /LDS/LDS_Project_2023/Preparing_csv_gra/participant_table_missing_values.csv\n"
     ]
    }
   ],
   "source": [
    "import csv\n",
    "import random\n",
    "import numpy as np\n",
    "\n",
    "participant_table = '/Volumes/Graziano Amodio/Data science - esami /LDS/LDS_Project_2023/Preparing_csv_gra/participant_table.csv'\n",
    "\n",
    "colonna = 'participant_id'\n",
    "\n",
    "# Apriamo il csv\n",
    "with open(participant_table, 'r') as file:\n",
    "    reader = csv.DictReader(file)\n",
    "    data = list(reader)\n",
    "\n",
    "# Imposto il seed per riprodurlo, così se lo runno più volte non cambia i missing values\n",
    "random.seed(42)\n",
    "\n",
    "# percentuale \n",
    "percentuale_valori_mancanti = 10\n",
    "num_valori_mancanti = int((percentuale_valori_mancanti / 100) * len(data))\n",
    "\n",
    "# Posizioni casuali\n",
    "posizioni_valori_mancanti = random.sample(range(len(data)), num_valori_mancanti)\n",
    "\n",
    "# Imposto i valori nella colonna scelta come None\n",
    "for posizione in posizioni_valori_mancanti:\n",
    "    data[posizione][colonna] = None\n",
    "\n",
    "# Salvo il dataset con valori mancanti (participant_table_missing_values)\n",
    "nuovo_nome_file_csv = '/Volumes/Graziano Amodio/Data science - esami /LDS/LDS_Project_2023/Preparing_csv_gra/participant_table_missing_values.csv'\n",
    "with open(nuovo_nome_file_csv, 'w', newline='') as file:\n",
    "    fieldnames = reader.fieldnames\n",
    "    writer = csv.DictWriter(file, fieldnames=fieldnames)\n",
    "    writer.writeheader()\n",
    "    writer.writerows(data)\n",
    "\n",
    "print(f\"I missing values di '{colonna}' sono salvati in: {nuovo_nome_file_csv}\")\n"
   ]
  },
  {
   "attachments": {},
   "cell_type": "markdown",
   "metadata": {},
   "source": [
    "Sostituisco None con '0' "
   ]
  },
  {
   "cell_type": "code",
   "execution_count": 22,
   "metadata": {},
   "outputs": [],
   "source": [
    "import csv\n",
    "\n",
    "def sostituisci_missing_values(file_csv):\n",
    "    with open(file_csv, 'r') as file:\n",
    "        reader = csv.DictReader(file)\n",
    "        rows = list(reader)\n",
    "\n",
    "    # Sostituisco i valori mancanti nella colonna 'participant_id' con 0\n",
    "    for row in rows:\n",
    "        if row['participant_id'] == '':\n",
    "            row['participant_id'] = '0'\n",
    "\n",
    "    # Aggiorno i dati\n",
    "    with open(file_csv, 'w', newline='') as file:\n",
    "        fieldnames = reader.fieldnames\n",
    "        writer = csv.DictWriter(file, fieldnames=fieldnames)\n",
    "        writer.writeheader()\n",
    "        writer.writerows(rows)\n",
    "\n",
    "sostituisci_missing_values('/Volumes/Graziano Amodio/Data science - esami /LDS/LDS_Project_2023/Preparing_csv_gra/participant_table_missing_values.csv')\n"
   ]
  },
  {
   "attachments": {},
   "cell_type": "markdown",
   "metadata": {},
   "source": [
    "Adesso vado a sostituire 0 con il valore precedente (not None) + 1"
   ]
  },
  {
   "cell_type": "code",
   "execution_count": 24,
   "metadata": {},
   "outputs": [],
   "source": [
    "import csv\n",
    "\n",
    "def sostituisci_zero(file_input, file_output):\n",
    "    with open(file_input, 'r') as infile, open(file_output, 'w', newline='') as outfile:\n",
    "        reader = csv.reader(infile)\n",
    "        writer = csv.writer(outfile)\n",
    "\n",
    "        # Intestazione\n",
    "        header = next(reader)\n",
    "        writer.writerow(header)\n",
    "\n",
    "        # Inizializzo la variabile per tenere traccia del valore precedente (none di default)\n",
    "        valore_precedente = None\n",
    "\n",
    "        # Itero sulle righe\n",
    "        for row in reader:\n",
    "            # Converti la prima colonna in interi\n",
    "            participant_id = int(row[0])\n",
    "\n",
    "            # Sostituisci 0 con valore precedente + 1 se il valore corrente è 0\n",
    "            if participant_id == 0:\n",
    "                if valore_precedente is not None:\n",
    "                    participant_id = valore_precedente + 1\n",
    "\n",
    "            # Scrivo la riga nell'output \n",
    "            writer.writerow([participant_id] + row[1:])\n",
    "\n",
    "            # Aggiorno il valore precedente\n",
    "            valore_precedente = participant_id\n",
    "\n",
    "sostituisci_zero('/Volumes/Graziano Amodio/Data science - esami /LDS/LDS_Project_2023/Preparing_csv_gra/participant_table_missing_values.csv', '/Volumes/Graziano Amodio/Data science - esami /LDS/LDS_Project_2023/Preparing_csv_gra/participant_table_no_missing_values.csv')\n"
   ]
  }
 ],
 "metadata": {
  "kernelspec": {
   "display_name": "Python 3",
   "language": "python",
   "name": "python3"
  },
  "language_info": {
   "codemirror_mode": {
    "name": "ipython",
    "version": 3
   },
   "file_extension": ".py",
   "mimetype": "text/x-python",
   "name": "python",
   "nbconvert_exporter": "python",
   "pygments_lexer": "ipython3",
   "version": "3.8.2"
  },
  "orig_nbformat": 4
 },
 "nbformat": 4,
 "nbformat_minor": 2
}
